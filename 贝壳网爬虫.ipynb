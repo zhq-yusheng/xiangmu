{
 "cells": [
  {
   "cell_type": "code",
   "execution_count": 6,
   "metadata": {},
   "outputs": [],
   "source": [
    "import requests\n",
    "import urllib.request as r\n",
    "from scrapy.selector import Selector\n",
    "import re\n",
    "from lxml.etree import HTML\n",
    "import openpyxl\n",
    "from openpyxl.styles import Font\n",
    "\n",
    "def web(x):\n",
    "    url = \"https://cd.ke.com/ershoufang/jinjiang/pg{}\".format(x)\n",
    "    data=r.urlopen(url).read().decode('utf-8','ignore')\n",
    "    return re.compile('href=\"(.*?)\" target=\"_blank\" title=').findall(data)[:30]\n",
    "\n",
    "def fangwuxinxi(url):\n",
    "    req=r.Request(url,headers={'User-Agent':'Mozilla/5.0 (Windows NT 10.0; Win64; x64) AppleWebKit/537.36 (KHTML, like Gecko) Chrome/81.0.4044.138 Safari/537.36'})#伪装\n",
    "    data=r.urlopen(url).read().decode('utf-8','ignore')\n",
    "    selector=Selector(text=data)\n",
    "    list2=[]\n",
    "    try:\n",
    "        s1=selector.xpath('//*[@id=\"beike\"]/div[1]/div[2]/div[2]/div/div/div[1]/h1/@title').extract()[0]#售房名称\n",
    "        s2=selector.xpath('//*[@id=\"beike\"]/div[1]/div[4]/div/div[2]/div[4]/div[2]').xpath('string(.)').extract()[0].replace('\\n','').replace(' ','')#所在区域\n",
    "        s3=selector.xpath('//*[@id=\"beike\"]/div[1]/div[4]/div/div[2]/div[4]/div[1]').xpath('string(.)').extract()[0].replace('\\n','').replace(' ','')#所在小区\n",
    "        s4=selector.xpath('//*[@id=\"introduction\"]/div/div/div[1]/div[2]/ul/li[1]').xpath('string(.)').extract()[0]#房屋户型\n",
    "        s5=selector.xpath('//*[@id=\"introduction\"]/div/div/div[1]/div[2]/ul/li[3]').xpath('string(.)').extract()[0]#建筑面积\n",
    "        s6=selector.xpath('//*[@id=\"beike\"]/div[1]/div[4]/div/div[2]/div[2]/div[1]/div[1]').xpath('string(.)').extract()[0].replace('\\n','').replace(' ','')#元/平方米\n",
    "        s7=selector.xpath('//*[@id=\"beike\"]/div[1]/div[4]/div/div[2]/div[2]/span[1]').xpath('string(.)').extract()[0]+'万'#房子总价\n",
    "        s8=selector.xpath('//*[@id=\"zuanzhan\"]/div[2]/div/div[1]/div[2]/div[1]/a').xpath('string(.)').extract()[0].replace(' ','')#房屋中介\n",
    "        s9=selector.xpath('//*[@id=\"zuanzhan\"]/div[2]/div/div[2]/div[2]').xpath('string(.)').extract()[0].replace(' ','')#中介电话\n",
    "        list2.append(s1);list2.append(s2);list2.append(s3);list2.append(s4);list2.append(s5);list2.append(s6);list2.append(s7);list2.append(s8);list2.append(s9)\n",
    "    except IndexError:\n",
    "        pass\n",
    "    if len(re.compile('户型结构</span>(.*?)</li>',re.S).findall(data))==0:\n",
    "        s10='-'\n",
    "    else:\n",
    "        s10=re.compile('户型结构</span>(.*?)</li>',re.S).findall(data)[0]\n",
    "    if len(re.compile('所在楼层</span>(.*?)</li>',re.S).findall(data))==0:\n",
    "        s11='-'\n",
    "    else:\n",
    "        s11=re.compile('所在楼层</span>(.*?)</li>',re.S).findall(data)[0]\n",
    "    if len(re.compile('建筑类型</span>(.*?)</li>',re.S).findall(data))==0:\n",
    "        s12='-'\n",
    "    else:\n",
    "        s12=re.compile('建筑类型</span>(.*?)</li>',re.S).findall(data)[0]\n",
    "    if len(re.compile('房屋朝向</span>(.*?)</li>',re.S).findall(data))==0:\n",
    "        s13='-'\n",
    "    else:\n",
    "        s13=re.compile('房屋朝向</span>(.*?)</li>',re.S).findall(data)[0]\n",
    "    if len(re.compile('建筑结构</span>(.*?)</li>',re.S).findall(data))==0:\n",
    "        s13='-'\n",
    "    else:\n",
    "        s14=re.compile('建筑结构</span>(.*?)</li>',re.S).findall(data)[0]\n",
    "    if len(re.compile('装修情况</span>(.*?)</li>',re.S).findall(data))==0:\n",
    "        s15='-'\n",
    "    else:\n",
    "        s15=re.compile('装修情况</span>(.*?)</li>',re.S).findall(data)[0]\n",
    "    if len(re.compile('梯户比例</span>(.*?)</li>',re.S).findall(data))==0:\n",
    "        s16='-'\n",
    "    else:\n",
    "        s16=re.compile('梯户比例</span>(.*?)</li>',re.S).findall(data)[0]\n",
    "    if len(re.compile('配备电梯</span>(.*?)</li>',re.S).findall(data))==0:\n",
    "        s17='-'\n",
    "    else:\n",
    "        s17=re.compile('配备电梯</span>(.*?)</li>',re.S).findall(data)[0]\n",
    "    list2.append(s10);list2.append(s11);list2.append(s12);list2.append(s13);list2.append(s14);list2.append(s15);list2.append(s16);list2.append(s17)\n",
    "    return list2\n"
   ]
  },
  {
   "cell_type": "code",
   "execution_count": 5,
   "metadata": {},
   "outputs": [],
   "source": [
    "wb = openpyxl.Workbook()\n",
    "sheet= wb['Sheet']\n",
    "list1=[\"售房名称\",\"所在区域\",\"所在小区\",\"房屋户型\",\"建筑面积\",\"元/平方米\",\"房子总价\",\"房屋中介\",\"中介电话\",\"户型结构\",\"所在楼层\",\"建筑类型\",\"房屋朝向\",\"建筑结构\",\"装修情况\",\"梯户比例\",\"配备电梯\"]\n",
    "j=1\n",
    "for i in range(1,18):\n",
    "    cell=sheet.cell(row=1,column=i,value=list1[i-1])\n",
    "for i in range(1,5):#爬取区间\n",
    "    for n in range(30):#爬取条数\n",
    "        list3=fangwuxinxi(web(i)[n])\n",
    "        j+=1\n",
    "        for k in range(1,18):#写入售房信息\n",
    "            cell=sheet.cell(row=j,column=k,value=list3[k-1])\n",
    "        wb.save('balances.xlsx')"
   ]
  },
  {
   "cell_type": "code",
   "execution_count": 7,
   "metadata": {},
   "outputs": [
    {
     "data": {
      "text/plain": [
       "['https://cd.ke.com/ershoufang/106105130730.html',\n",
       " 'https://cd.ke.com/ershoufang/106105129278.html',\n",
       " 'https://cd.ke.com/ershoufang/106105128448.html',\n",
       " 'https://cd.ke.com/ershoufang/106105128192.html',\n",
       " 'https://cd.ke.com/ershoufang/106105128039.html',\n",
       " 'https://cd.ke.com/ershoufang/106105125794.html',\n",
       " 'https://cd.ke.com/ershoufang/106105126194.html',\n",
       " 'https://cd.ke.com/ershoufang/106105125074.html',\n",
       " 'https://cd.ke.com/ershoufang/106105124236.html',\n",
       " 'https://cd.ke.com/ershoufang/106105124132.html',\n",
       " 'https://cd.ke.com/ershoufang/106105120847.html',\n",
       " 'https://cd.ke.com/ershoufang/106105120374.html',\n",
       " 'https://cd.ke.com/ershoufang/106105115879.html',\n",
       " 'https://cd.ke.com/ershoufang/106105114367.html',\n",
       " 'https://cd.ke.com/ershoufang/106105113843.html',\n",
       " 'https://cd.ke.com/ershoufang/106105113194.html',\n",
       " 'https://cd.ke.com/ershoufang/106105112810.html',\n",
       " 'https://cd.ke.com/ershoufang/106105112226.html',\n",
       " 'https://cd.ke.com/ershoufang/106105111984.html',\n",
       " 'https://cd.ke.com/ershoufang/106105111159.html',\n",
       " 'https://cd.ke.com/ershoufang/106105110782.html',\n",
       " 'https://cd.ke.com/ershoufang/106105110360.html',\n",
       " 'https://cd.ke.com/ershoufang/106105110217.html',\n",
       " 'https://cd.ke.com/ershoufang/106105109434.html',\n",
       " 'https://cd.ke.com/ershoufang/106105109617.html',\n",
       " 'https://cd.ke.com/ershoufang/106105107351.html',\n",
       " 'https://cd.ke.com/ershoufang/106105107309.html',\n",
       " 'https://cd.ke.com/ershoufang/106105106600.html',\n",
       " 'https://cd.ke.com/ershoufang/106105106018.html',\n",
       " 'https://cd.ke.com/ershoufang/106105104850.html']"
      ]
     },
     "execution_count": 7,
     "metadata": {},
     "output_type": "execute_result"
    }
   ],
   "source": [
    "web(1)"
   ]
  },
  {
   "cell_type": "code",
   "execution_count": 8,
   "metadata": {},
   "outputs": [
    {
     "data": {
      "text/plain": [
       "['https://cd.ke.com/ershoufang/106105104259.html',\n",
       " 'https://cd.ke.com/ershoufang/106105104056.html',\n",
       " 'https://cd.ke.com/ershoufang/106105104007.html',\n",
       " 'https://cd.ke.com/ershoufang/106105103599.html',\n",
       " 'https://cd.ke.com/ershoufang/106105103131.html',\n",
       " 'https://cd.ke.com/ershoufang/106105102703.html',\n",
       " 'https://cd.ke.com/ershoufang/106105102441.html',\n",
       " 'https://cd.ke.com/ershoufang/106105102471.html',\n",
       " 'https://cd.ke.com/ershoufang/106105101414.html',\n",
       " 'https://cd.ke.com/ershoufang/106105099592.html',\n",
       " 'https://cd.ke.com/ershoufang/106105098727.html',\n",
       " 'https://cd.ke.com/ershoufang/106105098507.html',\n",
       " 'https://cd.ke.com/ershoufang/106105098144.html',\n",
       " 'https://cd.ke.com/ershoufang/106105097954.html',\n",
       " 'https://cd.ke.com/ershoufang/106105097846.html',\n",
       " 'https://cd.ke.com/ershoufang/106105097141.html',\n",
       " 'https://cd.ke.com/ershoufang/106105096971.html',\n",
       " 'https://cd.ke.com/ershoufang/106105096943.html',\n",
       " 'https://cd.ke.com/ershoufang/106105096549.html',\n",
       " 'https://cd.ke.com/ershoufang/106105096292.html',\n",
       " 'https://cd.ke.com/ershoufang/106105096104.html',\n",
       " 'https://cd.ke.com/ershoufang/106105096099.html',\n",
       " 'https://cd.ke.com/ershoufang/106105094826.html',\n",
       " 'https://cd.ke.com/ershoufang/106105093749.html',\n",
       " 'https://cd.ke.com/ershoufang/106105093448.html',\n",
       " 'https://cd.ke.com/ershoufang/106105093268.html',\n",
       " 'https://cd.ke.com/ershoufang/106105085863.html',\n",
       " 'https://cd.ke.com/ershoufang/106105092014.html',\n",
       " 'https://cd.ke.com/ershoufang/106105091900.html',\n",
       " 'https://cd.ke.com/ershoufang/106105091172.html']"
      ]
     },
     "execution_count": 8,
     "metadata": {},
     "output_type": "execute_result"
    }
   ],
   "source": [
    "web(2)"
   ]
  },
  {
   "cell_type": "code",
   "execution_count": null,
   "metadata": {},
   "outputs": [],
   "source": []
  }
 ],
 "metadata": {
  "kernelspec": {
   "display_name": "Python 3",
   "language": "python",
   "name": "python3"
  },
  "language_info": {
   "codemirror_mode": {
    "name": "ipython",
    "version": 3
   },
   "file_extension": ".py",
   "mimetype": "text/x-python",
   "name": "python",
   "nbconvert_exporter": "python",
   "pygments_lexer": "ipython3",
   "version": "3.7.6"
  }
 },
 "nbformat": 4,
 "nbformat_minor": 4
}
